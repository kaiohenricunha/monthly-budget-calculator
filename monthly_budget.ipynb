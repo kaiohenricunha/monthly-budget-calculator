{
 "cells": [
  {
   "cell_type": "code",
   "execution_count": 21,
   "source": [
    "def categories():\n",
    "    # aqui ficam as despesas fixas\n",
    "    # 55% da renda\n",
    "    fixed_expenses_categ = ['Phone', 'Education', 'Credit Card', 'Housing/Food/Transportation']\n",
    "    fixed_expenses = [65.0, 586.26, 150.0]\n",
    "\n",
    "    # gastos livres, para diversao, roupas, entretenimento, e etc\n",
    "    # 15% da renda\n",
    "    extra = ['Me']\n",
    "    # percentual\n",
    "    extra_perc = [15.0]\n",
    "\n",
    "    # investimentos\n",
    "    # 30% da renda\n",
    "    investments = ['Investments']\n",
    "    # percentual\n",
    "    invest_perc = [30.0]\n",
    "\n",
    "    calculate_budget(fixed_expenses_categ, fixed_expenses, extra, extra_perc, investments, invest_perc)\n",
    "\n",
    "categories()\n"
   ],
   "outputs": [
    {
     "output_type": "stream",
     "name": "stdout",
     "text": [
      "\n",
      "\n",
      "FIXED\n",
      "-------------------\n",
      "\n",
      " Phone : 65.0\n",
      "\n",
      " Education : 586.26\n",
      "\n",
      " Credit Card : 150.0\n",
      "\n",
      " Housing/Food/Transportation : 1398.7399999999998\n",
      "\n",
      "\n",
      "EXTRA\n",
      "-------------------\n",
      "\n",
      " Me:  600.0\n",
      "\n",
      "\n",
      "INVESTMENTS\n",
      "-------------------\n",
      "\n",
      " Investments:  1200.0\n"
     ]
    }
   ],
   "metadata": {}
  },
  {
   "cell_type": "code",
   "execution_count": 20,
   "source": [
    "def calculate_budget(fixed_expenses_categ, fixed_expenses, extra, extra_perc, investments, invest_perc):\n",
    "    \n",
    "    earnings = float(input('How much did you earn this month?'))\n",
    "    soma = 0.0\n",
    "    housing_expenses = 0.0\n",
    "    extra_budget = []\n",
    "    investments_budget = []\n",
    "\n",
    "    for i in range(len(fixed_expenses)):\n",
    "        soma = soma + fixed_expenses[i]\n",
    "    \n",
    "    housing_expenses = earnings - soma\n",
    "    housing_expenses = housing_expenses - (earnings * extra_perc[0] / 100)\n",
    "    housing_expenses = housing_expenses - (earnings * invest_perc[0] / 100)\n",
    "    fixed_expenses.append(housing_expenses)\n",
    "    \n",
    "    if earnings < soma:\n",
    "        print('You can only afford fixed expenses this month')\n",
    "    else:\n",
    "        for i in range(len(extra)):\n",
    "            extra_budget.append(earnings * (extra_perc[i] / 100.0))\n",
    "        for i in range(len(investments)):\n",
    "            investments_budget.append(earnings * (invest_perc[i] / 100.0))\n",
    "\n",
    "    budget_formatting(fixed_expenses_categ, fixed_expenses, extra, extra_budget, investments, investments_budget)\n"
   ],
   "outputs": [],
   "metadata": {}
  },
  {
   "cell_type": "code",
   "execution_count": 16,
   "source": [
    "\n",
    "def budget_formatting(fixed_expenses_categ, fixed_expenses, extra, extra_budget, investments, investments_budget):\n",
    "    \n",
    "    print('\\n\\nFIXED')\n",
    "    print('-------------------')\n",
    "    for i in range(len(fixed_expenses_categ)):\n",
    "        print(f'\\n', fixed_expenses_categ[i], ':', fixed_expenses[i])\n",
    "\n",
    "    print('\\n\\nEXTRA')\n",
    "    print('-------------------')\n",
    "    for i in range(len(extra)):\n",
    "        print(f'\\n', extra[i] + ': ', extra_budget[i])\n",
    "\n",
    "    print('\\n\\nINVESTMENTS')\n",
    "    print('-------------------')\n",
    "    for i in range(len(investments)):\n",
    "        print(f'\\n', investments[i] +': ', investments_budget[i])\n",
    "    \n",
    "    "
   ],
   "outputs": [],
   "metadata": {}
  }
 ],
 "metadata": {
  "orig_nbformat": 4,
  "language_info": {
   "name": "python",
   "version": "3.8.10",
   "mimetype": "text/x-python",
   "codemirror_mode": {
    "name": "ipython",
    "version": 3
   },
   "pygments_lexer": "ipython3",
   "nbconvert_exporter": "python",
   "file_extension": ".py"
  },
  "kernelspec": {
   "name": "python3",
   "display_name": "Python 3.8.10 64-bit"
  },
  "interpreter": {
   "hash": "916dbcbb3f70747c44a77c7bcd40155683ae19c65e1c03b4aa3499c5328201f1"
  }
 },
 "nbformat": 4,
 "nbformat_minor": 2
}